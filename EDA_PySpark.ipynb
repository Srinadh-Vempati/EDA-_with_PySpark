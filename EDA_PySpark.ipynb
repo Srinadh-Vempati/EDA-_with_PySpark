{
  "nbformat": 4,
  "nbformat_minor": 0,
  "metadata": {
    "colab": {
      "name": "EDA_PySpark.ipynb",
      "provenance": [],
      "collapsed_sections": []
    },
    "kernelspec": {
      "name": "python3",
      "display_name": "Python 3"
    },
    "language_info": {
      "name": "python"
    }
  },
  "cells": [
    {
      "cell_type": "code",
      "execution_count": 1,
      "metadata": {
        "colab": {
          "base_uri": "https://localhost:8080/"
        },
        "id": "nKmLBHiICZjC",
        "outputId": "dfeff76c-38ef-465d-fada-1e7fa50884bd"
      },
      "outputs": [
        {
          "output_type": "stream",
          "name": "stdout",
          "text": [
            "Mounted at /content/drive\n"
          ]
        }
      ],
      "source": [
        "from google.colab import drive\n",
        "drive.mount('/content/drive')"
      ]
    },
    {
      "cell_type": "code",
      "source": [
        "import numpy as np\n",
        "import pandas as pd\n",
        "import os\n",
        "import matplotlib.pyplot as plt"
      ],
      "metadata": {
        "id": "2-2cmJT8Cqby"
      },
      "execution_count": 2,
      "outputs": []
    },
    {
      "cell_type": "code",
      "source": [
        "!pip install pyspark\n",
        "from pyspark.sql import SparkSession\n",
        "spark = SparkSession.builder\\\n",
        "        .appName(\"Spark_practice\")\\\n",
        "        .getOrCreate()"
      ],
      "metadata": {
        "colab": {
          "base_uri": "https://localhost:8080/"
        },
        "id": "CywLy_s6C2eI",
        "outputId": "3fcface4-1d7a-4979-809c-8e4467439e5b"
      },
      "execution_count": 3,
      "outputs": [
        {
          "output_type": "stream",
          "name": "stdout",
          "text": [
            "Collecting pyspark\n",
            "  Downloading pyspark-3.2.1.tar.gz (281.4 MB)\n",
            "\u001b[K     |████████████████████████████████| 281.4 MB 36 kB/s \n",
            "\u001b[?25hCollecting py4j==0.10.9.3\n",
            "  Downloading py4j-0.10.9.3-py2.py3-none-any.whl (198 kB)\n",
            "\u001b[K     |████████████████████████████████| 198 kB 46.9 MB/s \n",
            "\u001b[?25hBuilding wheels for collected packages: pyspark\n",
            "  Building wheel for pyspark (setup.py) ... \u001b[?25l\u001b[?25hdone\n",
            "  Created wheel for pyspark: filename=pyspark-3.2.1-py2.py3-none-any.whl size=281853642 sha256=63c627c1af9dfa6fbf608e8e77e84e8739f70fa204186c96fdd29f983a24b697\n",
            "  Stored in directory: /root/.cache/pip/wheels/9f/f5/07/7cd8017084dce4e93e84e92efd1e1d5334db05f2e83bcef74f\n",
            "Successfully built pyspark\n",
            "Installing collected packages: py4j, pyspark\n",
            "Successfully installed py4j-0.10.9.3 pyspark-3.2.1\n"
          ]
        }
      ]
    },
    {
      "cell_type": "code",
      "source": [
        "spark"
      ],
      "metadata": {
        "colab": {
          "base_uri": "https://localhost:8080/",
          "height": 219
        },
        "id": "OtT992emC7-I",
        "outputId": "b0ae1381-8352-47f3-a93d-a4af1f82cca6"
      },
      "execution_count": 4,
      "outputs": [
        {
          "output_type": "execute_result",
          "data": {
            "text/plain": [
              "<pyspark.sql.session.SparkSession at 0x7f07d93d5cd0>"
            ],
            "text/html": [
              "\n",
              "            <div>\n",
              "                <p><b>SparkSession - in-memory</b></p>\n",
              "                \n",
              "        <div>\n",
              "            <p><b>SparkContext</b></p>\n",
              "\n",
              "            <p><a href=\"http://6090964f1b70:4040\">Spark UI</a></p>\n",
              "\n",
              "            <dl>\n",
              "              <dt>Version</dt>\n",
              "                <dd><code>v3.2.1</code></dd>\n",
              "              <dt>Master</dt>\n",
              "                <dd><code>local[*]</code></dd>\n",
              "              <dt>AppName</dt>\n",
              "                <dd><code>Spark_practice</code></dd>\n",
              "            </dl>\n",
              "        </div>\n",
              "        \n",
              "            </div>\n",
              "        "
            ]
          },
          "metadata": {},
          "execution_count": 4
        }
      ]
    },
    {
      "cell_type": "code",
      "source": [
        "df = spark.read.csv('/content/drive/MyDrive/Colab Notebooks/201902-fordgobike-tripdata.csv',\\\n",
        "                    header=True, inferSchema=True)\n",
        "                    "
      ],
      "metadata": {
        "id": "qKor16gfC8A3"
      },
      "execution_count": 5,
      "outputs": []
    },
    {
      "cell_type": "code",
      "source": [
        "from pyspark.sql.functions import max, min, datediff, format_number, collect_list,\\\n",
        "struct, mean, when, size, collect_set, count, to_date, countDistinct, current_date,\\\n",
        "sumDistinct, column, year, date_format, month, dayofmonth\n",
        "\n",
        "from pyspark.sql import Window\n",
        "import pyspark.sql.functions as F"
      ],
      "metadata": {
        "id": "v8jh51SOC8Fi"
      },
      "execution_count": 7,
      "outputs": []
    },
    {
      "cell_type": "code",
      "source": [
        "df.columns"
      ],
      "metadata": {
        "colab": {
          "base_uri": "https://localhost:8080/"
        },
        "id": "tll_vJmWC8Im",
        "outputId": "1becd400-24cb-4d80-e36b-c09713aae161"
      },
      "execution_count": 8,
      "outputs": [
        {
          "output_type": "execute_result",
          "data": {
            "text/plain": [
              "['duration_sec',\n",
              " 'start_time',\n",
              " 'end_time',\n",
              " 'start_station_id',\n",
              " 'start_station_name',\n",
              " 'start_station_latitude',\n",
              " 'start_station_longitude',\n",
              " 'end_station_id',\n",
              " 'end_station_name',\n",
              " 'end_station_latitude',\n",
              " 'end_station_longitude',\n",
              " 'bike_id',\n",
              " 'user_type',\n",
              " 'member_birth_year',\n",
              " 'member_gender',\n",
              " 'bike_share_for_all_trip']"
            ]
          },
          "metadata": {},
          "execution_count": 8
        }
      ]
    },
    {
      "cell_type": "code",
      "source": [
        "df.show(2)"
      ],
      "metadata": {
        "colab": {
          "base_uri": "https://localhost:8080/"
        },
        "id": "i1J90UnqpQTp",
        "outputId": "09035759-bedb-4be6-b98a-aa0f804955f8"
      },
      "execution_count": 60,
      "outputs": [
        {
          "output_type": "stream",
          "name": "stdout",
          "text": [
            "+------------+--------------------+--------------------+----------------+--------------------+----------------------+-----------------------+--------------+--------------------+--------------------+---------------------+-------+---------+-----------------+-------------+-----------------------+\n",
            "|duration_sec|          start_time|            end_time|start_station_id|  start_station_name|start_station_latitude|start_station_longitude|end_station_id|    end_station_name|end_station_latitude|end_station_longitude|bike_id|user_type|member_birth_year|member_gender|bike_share_for_all_trip|\n",
            "+------------+--------------------+--------------------+----------------+--------------------+----------------------+-----------------------+--------------+--------------------+--------------------+---------------------+-------+---------+-----------------+-------------+-----------------------+\n",
            "|       52185|2019-02-28 17:32:...|2019-03-01 08:01:...|              21|Montgomery St BAR...|            37.7896254|            -122.400811|            13|Commercial St at ...|           37.794231|          -122.402923|   4902| Customer|             1984|         Male|                     No|\n",
            "|       42521|2019-02-28 18:53:...|2019-03-01 06:42:...|              23|The Embarcadero a...|             37.791464|            -122.391034|            81|  Berry St at 4th St|            37.77588|           -122.39317|   2535| Customer|             null|         null|                     No|\n",
            "+------------+--------------------+--------------------+----------------+--------------------+----------------------+-----------------------+--------------+--------------------+--------------------+---------------------+-------+---------+-----------------+-------------+-----------------------+\n",
            "only showing top 2 rows\n",
            "\n"
          ]
        }
      ]
    },
    {
      "cell_type": "code",
      "source": [
        "print((df.count(),len(df.columns)))"
      ],
      "metadata": {
        "colab": {
          "base_uri": "https://localhost:8080/"
        },
        "id": "BuQCHIJOC8Kk",
        "outputId": "b661899d-bbb6-4e4b-dbe1-fba61f0bedb9"
      },
      "execution_count": 11,
      "outputs": [
        {
          "output_type": "stream",
          "name": "stdout",
          "text": [
            "(183412, 16)\n"
          ]
        }
      ]
    },
    {
      "cell_type": "markdown",
      "source": [
        "### Distribution by Member Gender"
      ],
      "metadata": {
        "id": "1YrgFJi6R6rT"
      }
    },
    {
      "cell_type": "code",
      "source": [
        "df.groupBy('member_gender').agg(F.expr(\"count(member_gender)\").alias(\"No. of records\")).show()"
      ],
      "metadata": {
        "colab": {
          "base_uri": "https://localhost:8080/"
        },
        "id": "QMDjAAhnC8M1",
        "outputId": "06b4b6af-bcab-47ba-f6d9-e48cbd8b3b7f"
      },
      "execution_count": 13,
      "outputs": [
        {
          "output_type": "stream",
          "name": "stdout",
          "text": [
            "+-------------+--------------+\n",
            "|member_gender|No. of records|\n",
            "+-------------+--------------+\n",
            "|         null|             0|\n",
            "|       Female|         40844|\n",
            "|        Other|          3652|\n",
            "|         Male|        130651|\n",
            "+-------------+--------------+\n",
            "\n"
          ]
        }
      ]
    },
    {
      "cell_type": "markdown",
      "source": [
        "### The minimum, maximum and average age of bicycle rentals"
      ],
      "metadata": {
        "id": "bnDq2-uKSBEE"
      }
    },
    {
      "cell_type": "code",
      "source": [
        "df_1 = df.withColumn(\"Age\",2022 - df['member_birth_year'] ).alias('Age')\n",
        "df_1.groupBy('member_gender').agg(\\\n",
        "                          F.expr(\"avg(Age)\").alias(\"AVG Age\"),\\\n",
        "                          F.expr(\"min(Age)\").alias(\"MIN Age\"),\\\n",
        "                          F.expr(\"max(Age)\").alias(\"MAX Age\"))\\\n",
        "                          .withColumn(\"AVG Age\",F.round(F.col('AVG Age'),0).cast('integer')).show()"
      ],
      "metadata": {
        "colab": {
          "base_uri": "https://localhost:8080/"
        },
        "id": "E2kXQWI0C8PK",
        "outputId": "ca414343-5952-4bec-9bab-3deeda8c1deb"
      },
      "execution_count": 20,
      "outputs": [
        {
          "output_type": "stream",
          "name": "stdout",
          "text": [
            "+-------------+-------+-------+-------+\n",
            "|member_gender|AVG Age|MIN Age|MAX Age|\n",
            "+-------------+-------+-------+-------+\n",
            "|         null|   null|   null|   null|\n",
            "|       Female|     36|     21|    144|\n",
            "|        Other|     39|     22|    112|\n",
            "|         Male|     37|     21|    122|\n",
            "+-------------+-------+-------+-------+\n",
            "\n"
          ]
        }
      ]
    },
    {
      "cell_type": "markdown",
      "source": [
        "### The number of unique bikes"
      ],
      "metadata": {
        "id": "k4Sec7f2VW7k"
      }
    },
    {
      "cell_type": "code",
      "source": [
        "df.select('bike_id').distinct().count()"
      ],
      "metadata": {
        "colab": {
          "base_uri": "https://localhost:8080/"
        },
        "id": "TBVvppnMVVSl",
        "outputId": "fd0a13cd-e8f5-4c42-bb80-4ae99df82c12"
      },
      "execution_count": 21,
      "outputs": [
        {
          "output_type": "execute_result",
          "data": {
            "text/plain": [
              "4646"
            ]
          },
          "metadata": {},
          "execution_count": 21
        }
      ]
    },
    {
      "cell_type": "markdown",
      "source": [
        "### Number of unique bike stations"
      ],
      "metadata": {
        "id": "frOGZHtSVsoW"
      }
    },
    {
      "cell_type": "code",
      "source": [
        "df.dropDuplicates(['start_station_id','end_station_id']).select('start_station_id').distinct().count()"
      ],
      "metadata": {
        "colab": {
          "base_uri": "https://localhost:8080/"
        },
        "id": "OW-afpHoC8Th",
        "outputId": "eb3b7ea7-942a-45ab-829f-b0397ee18d62"
      },
      "execution_count": 38,
      "outputs": [
        {
          "output_type": "execute_result",
          "data": {
            "text/plain": [
              "330"
            ]
          },
          "metadata": {},
          "execution_count": 38
        }
      ]
    },
    {
      "cell_type": "markdown",
      "source": [
        "### Which bike was rented the longest and which was the shortest during the analyzed period (and for how long)"
      ],
      "metadata": {
        "id": "J0WOo7PcZ8kw"
      }
    },
    {
      "cell_type": "code",
      "source": [
        "aggData = df.groupBy('bike_id').agg(F.expr(\"count(bike_id)\").alias(\"Total Rents\"),\\\n",
        "                                    F.expr(\"avg(duration_sec)\").alias(\"AVG Rent Time\"),\\\n",
        "                                    F.expr(\"min(duration_sec)\").alias(\"MIN Rent Time\"),\\\n",
        "                                    F.expr(\"max(duration_sec)\").alias(\"MAX Rent Time\"))\\\n",
        "                                    .orderBy(\"MAX Rent Time\",ascending=False).show(1)\n",
        "\n",
        "aggData = df.groupBy('bike_id').agg(F.expr(\"count(bike_id)\").alias(\"Total Rents\"),\\\n",
        "                                    F.expr(\"avg(duration_sec)\").alias(\"AVG Rent Time\"),\\\n",
        "                                    F.expr(\"min(duration_sec)\").alias(\"MIN Rent Time\"),\\\n",
        "                                    F.expr(\"max(duration_sec)\").alias(\"MAX Rent Time\"))\\\n",
        "                                    .orderBy(\"MAX Rent Time\",ascending=True).show(1)"
      ],
      "metadata": {
        "colab": {
          "base_uri": "https://localhost:8080/"
        },
        "id": "XCvTcO7KZ5ao",
        "outputId": "e0ceb4ec-9191-46f0-ad75-deced55d0400"
      },
      "execution_count": 43,
      "outputs": [
        {
          "output_type": "stream",
          "name": "stdout",
          "text": [
            "+-------+-----------+-------------+-------------+-------------+\n",
            "|bike_id|Total Rents|AVG Rent Time|MIN Rent Time|MAX Rent Time|\n",
            "+-------+-----------+-------------+-------------+-------------+\n",
            "|   6168|         75|      1816.76|          184|        85444|\n",
            "+-------+-----------+-------------+-------------+-------------+\n",
            "only showing top 1 row\n",
            "\n",
            "+-------+-----------+-------------+-------------+-------------+\n",
            "|bike_id|Total Rents|AVG Rent Time|MIN Rent Time|MAX Rent Time|\n",
            "+-------+-----------+-------------+-------------+-------------+\n",
            "|   1679|          1|         76.0|           76|           76|\n",
            "+-------+-----------+-------------+-------------+-------------+\n",
            "only showing top 1 row\n",
            "\n"
          ]
        }
      ]
    },
    {
      "cell_type": "markdown",
      "source": [
        "### Average duration of a single loan"
      ],
      "metadata": {
        "id": "4fwwHyTzchSM"
      }
    },
    {
      "cell_type": "code",
      "source": [
        "df.select(mean('duration_sec').alias(\"AVG Duration\")).show()"
      ],
      "metadata": {
        "colab": {
          "base_uri": "https://localhost:8080/"
        },
        "id": "5A0KhfizZ5dT",
        "outputId": "ae4c9bf1-ccde-4353-e53b-80a48f283311"
      },
      "execution_count": 46,
      "outputs": [
        {
          "output_type": "stream",
          "name": "stdout",
          "text": [
            "+----------------+\n",
            "|    AVG Duration|\n",
            "+----------------+\n",
            "|726.078435434977|\n",
            "+----------------+\n",
            "\n"
          ]
        }
      ]
    },
    {
      "cell_type": "markdown",
      "source": [
        "### Between which stations there was the greatest traffic"
      ],
      "metadata": {
        "id": "R9zLM78_c_2D"
      }
    },
    {
      "cell_type": "code",
      "source": [
        "df.groupBy('start_station_name','end_station_name').agg(\\\n",
        "    F.expr(\"count(bike_id)\").alias(\"Total Connections\")).orderBy('Total Connections',ascending=False).show(1)"
      ],
      "metadata": {
        "colab": {
          "base_uri": "https://localhost:8080/"
        },
        "id": "b0AtCPlWZ5gJ",
        "outputId": "2c7df670-8653-4caa-f5d4-7b9dec17110c"
      },
      "execution_count": 47,
      "outputs": [
        {
          "output_type": "stream",
          "name": "stdout",
          "text": [
            "+------------------+--------------------+-----------------+\n",
            "|start_station_name|    end_station_name|Total Connections|\n",
            "+------------------+--------------------+-----------------+\n",
            "|Berry St at 4th St|San Francisco Fer...|              337|\n",
            "+------------------+--------------------+-----------------+\n",
            "only showing top 1 row\n",
            "\n"
          ]
        }
      ]
    },
    {
      "cell_type": "markdown",
      "source": [
        "### At what time during the day were the most bicycles rented"
      ],
      "metadata": {
        "id": "y6CwfUWzdwyt"
      }
    },
    {
      "cell_type": "code",
      "source": [
        "df.withColumn(\"Time of the day\",date_format('start_time','HH:mm')).select(\"Time of the day\")\\\n",
        ".groupBy(\"Time of the day\").count().orderBy('count',ascending=False).show()"
      ],
      "metadata": {
        "colab": {
          "base_uri": "https://localhost:8080/"
        },
        "id": "E1IczTN2VTVk",
        "outputId": "6a0f93d1-a6cd-440e-fcec-eb6dd3a7d010"
      },
      "execution_count": 49,
      "outputs": [
        {
          "output_type": "stream",
          "name": "stdout",
          "text": [
            "+---------------+-----+\n",
            "|Time of the day|count|\n",
            "+---------------+-----+\n",
            "|          17:36|  449|\n",
            "|          17:11|  447|\n",
            "|          08:42|  433|\n",
            "|          08:54|  416|\n",
            "|          08:31|  416|\n",
            "|          17:03|  415|\n",
            "|          17:07|  415|\n",
            "|          08:59|  410|\n",
            "|          17:10|  410|\n",
            "|          08:47|  401|\n",
            "|          17:38|  401|\n",
            "|          17:17|  401|\n",
            "|          08:33|  395|\n",
            "|          08:27|  394|\n",
            "|          17:44|  394|\n",
            "|          17:15|  393|\n",
            "|          17:35|  391|\n",
            "|          17:09|  390|\n",
            "|          08:48|  388|\n",
            "|          17:13|  386|\n",
            "+---------------+-----+\n",
            "only showing top 20 rows\n",
            "\n"
          ]
        }
      ]
    },
    {
      "cell_type": "markdown",
      "source": [
        "### The average number of rentals for individual days of the week"
      ],
      "metadata": {
        "id": "JyvW_qdFj7sl"
      }
    },
    {
      "cell_type": "code",
      "source": [
        "df.withColumn(\"Day of Rent\",date_format('start_time','EEEE')).select(\"Day of Rent\")\\\n",
        ".groupBy(\"Day of Rent\").count()\\\n",
        ".orderBy('count',ascending=False).show()"
      ],
      "metadata": {
        "colab": {
          "base_uri": "https://localhost:8080/"
        },
        "id": "5En_wR_oVTXv",
        "outputId": "761f3c0c-523f-4985-8b40-9177030a82b4"
      },
      "execution_count": 55,
      "outputs": [
        {
          "output_type": "stream",
          "name": "stdout",
          "text": [
            "+-----------+-----+\n",
            "|Day of Rent|count|\n",
            "+-----------+-----+\n",
            "|   Thursday|35197|\n",
            "|    Tuesday|31813|\n",
            "|  Wednesday|29641|\n",
            "|     Friday|28981|\n",
            "|     Monday|26852|\n",
            "|     Sunday|15523|\n",
            "|   Saturday|15405|\n",
            "+-----------+-----+\n",
            "\n"
          ]
        }
      ]
    },
    {
      "cell_type": "markdown",
      "source": [
        "### The average number of rentals for individual months"
      ],
      "metadata": {
        "id": "a3-9izbEk9DW"
      }
    },
    {
      "cell_type": "code",
      "source": [
        "df.withColumn(\"AVG Rentals / Month\",date_format('start_time','MMMM')).select(\"AVG Rentals / Month\")\\\n",
        ".groupBy(\"AVG Rentals / Month\").count().orderBy('count').show()"
      ],
      "metadata": {
        "colab": {
          "base_uri": "https://localhost:8080/"
        },
        "id": "AMGIZJLfVTZq",
        "outputId": "483fd20c-fcaa-4a68-ed60-4c3dc85ca753"
      },
      "execution_count": 56,
      "outputs": [
        {
          "output_type": "stream",
          "name": "stdout",
          "text": [
            "+-------------------+------+\n",
            "|AVG Rentals / Month| count|\n",
            "+-------------------+------+\n",
            "|           February|183412|\n",
            "+-------------------+------+\n",
            "\n"
          ]
        }
      ]
    },
    {
      "cell_type": "markdown",
      "source": [
        "### RDD dataDaily containing data aggregated down to the level of the day. Each day of the year (element in RDD) is to contain the following information\n",
        "\n",
        "- 'date' : Date\n",
        "- 'avg_duration_sec' : Average duration of rentals for the day\n",
        "- 'n_trips' : number of trips on a given day\n",
        "- 'n_bikes' : number of rentals on a given day\n",
        "- 'n_subscriber' : number of rentals made by subscribers on a given day"
      ],
      "metadata": {
        "id": "QS57w0frlnLn"
      }
    },
    {
      "cell_type": "code",
      "source": [
        "df.withColumn(\"date\", date_format('start_time', 'D')).groupBy('date')\\\n",
        ".agg(\\\n",
        "                     F.expr(\"avg(duration_sec)\").alias(\"avg_duration_sec\"),\\\n",
        "                     F.expr(\"count(bike_id)\").alias(\"n_trips\"),countDistinct(\"bike_id\").alias(\"n_bikes\"),\\\n",
        "                     count(when(column(\"user_type\") == \"Subscriber\", True)).alias(\"n_subscriber\"))\\\n",
        "                     .withColumn('avg_duration_sec', F.round(F.col('avg_duration_sec'), 0).cast('integer'))\\\n",
        "                     .orderBy(\"date\",ascending=True).show(5)\n"
      ],
      "metadata": {
        "colab": {
          "base_uri": "https://localhost:8080/"
        },
        "id": "7bqAbraYVTbu",
        "outputId": "d0d531bb-8307-4c02-9a2e-009fbb463396"
      },
      "execution_count": 76,
      "outputs": [
        {
          "output_type": "stream",
          "name": "stdout",
          "text": [
            "+----+----------------+-------+-------+------------+\n",
            "|date|avg_duration_sec|n_trips|n_bikes|n_subscriber|\n",
            "+----+----------------+-------+-------+------------+\n",
            "|  32|             690|   6133|   1873|        5553|\n",
            "|  33|             795|   3231|   1227|        2731|\n",
            "|  34|             746|   2841|   1163|        2461|\n",
            "|  35|             650|   5491|   1781|        5042|\n",
            "|  36|             663|   8486|   2177|        7799|\n",
            "+----+----------------+-------+-------+------------+\n",
            "only showing top 5 rows\n",
            "\n"
          ]
        }
      ]
    },
    {
      "cell_type": "markdown",
      "source": [
        "### Number of unique combinations of stations (x -> y == y -> x) for the day"
      ],
      "metadata": {
        "id": "IWehRCSzxLRA"
      }
    },
    {
      "cell_type": "code",
      "source": [
        "df2 = df.withColumn(\"sl2\", when(df['end_station_id'] < df['start_station_id'],  df['end_station_id'])\\\n",
        ".otherwise(df['start_station_id']))\\\n",
        ".withColumn(\"el2\", when(df['end_station_id'] > df['start_station_id'],  df['end_station_id'])\\\n",
        ".otherwise(df['start_station_id']))\\\n",
        ".drop(\"start_station_id\", \"end_station_id\")\n",
        "\n",
        "df2_agg = df2.withColumn(\"date\", date_format('start_time', 'D'))\\\n",
        ".groupBy('date').agg(collect_set(struct(column('sl2'), column('el2'))).alias(\"n_routes\")) \n",
        "\n",
        "df2_agg.select(\"date\", size(\"n_routes\")).alias(\"n_routes\")\\\n",
        ".orderBy(\"date\",ascending=True).show(5)"
      ],
      "metadata": {
        "colab": {
          "base_uri": "https://localhost:8080/"
        },
        "id": "UFQ8pkF8lqTf",
        "outputId": "93d2d231-0775-4101-8926-3bfc9edccff9"
      },
      "execution_count": 78,
      "outputs": [
        {
          "output_type": "stream",
          "name": "stdout",
          "text": [
            "+----+--------------+\n",
            "|date|size(n_routes)|\n",
            "+----+--------------+\n",
            "|  32|          3232|\n",
            "|  33|          2043|\n",
            "|  34|          1789|\n",
            "|  35|          2930|\n",
            "|  36|          4039|\n",
            "+----+--------------+\n",
            "only showing top 5 rows\n",
            "\n"
          ]
        }
      ]
    },
    {
      "cell_type": "code",
      "source": [
        ""
      ],
      "metadata": {
        "id": "3DHaqyPTlqWn"
      },
      "execution_count": null,
      "outputs": []
    },
    {
      "cell_type": "code",
      "source": [
        ""
      ],
      "metadata": {
        "id": "BovPElU6lqZk"
      },
      "execution_count": null,
      "outputs": []
    },
    {
      "cell_type": "code",
      "source": [
        ""
      ],
      "metadata": {
        "id": "0UmYQrwelqcQ"
      },
      "execution_count": null,
      "outputs": []
    }
  ]
}